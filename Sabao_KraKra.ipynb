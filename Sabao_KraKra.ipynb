{
 "cells": [
  {
   "cell_type": "code",
   "execution_count": 1,
   "metadata": {},
   "outputs": [
    {
     "name": "stdout",
     "output_type": "stream",
     "text": [
      "model = stock\n",
      "objects = [<classes.Warehouse object at 0x0000022A6239AC50>, <classes.Warehouse object at 0x0000022A62399120>, <classes.Warehouse object at 0x0000022A6239A470>, <classes.Warehouse object at 0x0000022A6239A500>]\n",
      "1346\n",
      "1258\n",
      "1173\n",
      "1223\n",
      "5000\n"
     ]
    }
   ],
   "source": [
    "from loader import *\n",
    "from classes import Warehouse, Item\n",
    "\n",
    "stock = Loader(model='stock')\n",
    "all_wh = stock.objects\n",
    "w1 = all_wh[0]\n",
    "w2 = all_wh[1]\n",
    "w3 = all_wh[2]\n",
    "w4 = all_wh[3]\n",
    "\n",
    "for attr, value in stock.__dict__.items():\n",
    "    print(f\"{attr} = {value}\")\n",
    "\n",
    "\n",
    "print(w1.occupancy())\n",
    "print(w2.occupancy())\n",
    "print(w3.occupancy())\n",
    "print(w4.occupancy())\n",
    "\n",
    "print(w1.occupancy() + w2.occupancy() + w3.occupancy() + w4.occupancy())\n"
   ]
  },
  {
   "cell_type": "code",
   "execution_count": 3,
   "metadata": {},
   "outputs": [
    {
     "name": "stdout",
     "output_type": "stream",
     "text": [
      "[<classes.Employee object at 0x0000022A6239BB20>, <classes.Employee object at 0x0000022A6239B910>, <classes.Employee object at 0x0000022A6239B070>, <classes.Employee object at 0x0000022A6239BF70>]\n",
      "<class 'list'>\n"
     ]
    }
   ],
   "source": [
    "funcionarios = Loader(model = 'personnel')\n",
    "empregado = funcionarios.objects\n",
    "print(empregado)\n",
    "print(type(empregado))\n"
   ]
  },
  {
   "cell_type": "code",
   "execution_count": 4,
   "metadata": {},
   "outputs": [
    {
     "name": "stdout",
     "output_type": "stream",
     "text": [
      "Jeremy\n",
      "Samuel\n",
      "Lidia\n",
      "Juno\n"
     ]
    }
   ],
   "source": [
    "for emp in empregado:\n",
    "    print(emp.name)\n"
   ]
  }
 ],
 "metadata": {
  "kernelspec": {
   "display_name": "Python 3",
   "language": "python",
   "name": "python3"
  },
  "language_info": {
   "codemirror_mode": {
    "name": "ipython",
    "version": 3
   },
   "file_extension": ".py",
   "mimetype": "text/x-python",
   "name": "python",
   "nbconvert_exporter": "python",
   "pygments_lexer": "ipython3",
   "version": "3.10.6"
  },
  "orig_nbformat": 4
 },
 "nbformat": 4,
 "nbformat_minor": 2
}
